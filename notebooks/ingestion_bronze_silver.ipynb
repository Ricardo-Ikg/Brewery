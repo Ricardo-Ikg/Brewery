{
 "cells": [
  {
   "cell_type": "code",
   "execution_count": 0,
   "metadata": {
    "application/vnd.databricks.v1+cell": {
     "cellMetadata": {
      "byteLimit": 2048000,
      "rowLimit": 10000
     },
     "inputWidgets": {},
     "nuid": "c6b5f779-1c0c-4757-932f-d100ecce1f2b",
     "showTitle": false,
     "title": ""
    }
   },
   "outputs": [],
   "source": [
    "from pyspark.sql import SparkSession\n",
    "from pyspark.context import SparkContext\n",
    "from pyspark.sql.types import StructField, StructType, StringType\n",
    "from pyspark.sql.functions import col, split, initcap, lit, when, trim, lower\n",
    "import datetime"
   ]
  },
  {
   "cell_type": "code",
   "execution_count": 0,
   "metadata": {
    "application/vnd.databricks.v1+cell": {
     "cellMetadata": {
      "byteLimit": 2048000,
      "rowLimit": 10000
     },
     "inputWidgets": {},
     "nuid": "7e9fdcc4-0328-49b6-a729-9a3b47e4a993",
     "showTitle": false,
     "title": ""
    }
   },
   "outputs": [],
   "source": [
    "spark = SparkSession.builder \\\n",
    "                    .appName(\"Breweries\") \\\n",
    "                    .getOrCreate()\n",
    "\n",
    "sc = spark.sparkContext"
   ]
  },
  {
   "cell_type": "code",
   "execution_count": 0,
   "metadata": {
    "application/vnd.databricks.v1+cell": {
     "cellMetadata": {
      "byteLimit": 2048000,
      "rowLimit": 10000
     },
     "inputWidgets": {},
     "nuid": "6f37ad39-81fa-4863-89c1-5e6eeaf2089d",
     "showTitle": false,
     "title": ""
    }
   },
   "outputs": [],
   "source": [
    "today = datetime.date.today()"
   ]
  },
  {
   "cell_type": "code",
   "execution_count": 0,
   "metadata": {
    "application/vnd.databricks.v1+cell": {
     "cellMetadata": {
      "byteLimit": 2048000,
      "rowLimit": 10000
     },
     "inputWidgets": {},
     "nuid": "5fd9a657-106f-4aa9-9b1e-4c5160a87383",
     "showTitle": false,
     "title": ""
    }
   },
   "outputs": [],
   "source": [
    "df_bronze = spark.read.parquet(\"dbfs:/mnt/data/Bronze/\" + str(today))"
   ]
  },
  {
   "cell_type": "code",
   "execution_count": 0,
   "metadata": {
    "application/vnd.databricks.v1+cell": {
     "cellMetadata": {
      "byteLimit": 2048000,
      "rowLimit": 10000
     },
     "inputWidgets": {},
     "nuid": "2c263a95-fd76-436a-a853-501f9287ae9a",
     "showTitle": false,
     "title": ""
    }
   },
   "outputs": [],
   "source": [
    "df_cleaned = df_bronze \\\n",
    "                        .withColumn(\"Name\", trim(lower(col(\"name\"))))\\\n",
    "                        .withColumn(\"Brewery_type\", trim(lower(col(\"brewery_type\")))) \\\n",
    "                        .withColumn(\"Address_1\", split(col(\"address_1\"), \" \",2)) \\\n",
    "                        .withColumn(\"Number\", col(\"address_1\")[0]) \\\n",
    "                        .withColumn(\"Street\", col(\"address_1\")[1]) \\\n",
    "                        .withColumn(\"City\", initcap(col(\"city\"))) \\\n",
    "                        .withColumn(\"State_province\", initcap(col(\"state_province\"))) \\\n",
    "                        .withColumn(\"Postal_code\", when(col(\"postal_code\").isNull(), lit(0)).otherwise(col(\"postal_code\"))) \\\n",
    "                        .withColumn(\"Country\", initcap(col(\"country\"))) \\\n",
    "                        .withColumn(\"phone\", (col(\"country\")).cast(\"int\")) \\\n",
    "                        .withColumn(\"Website_url\", when(col(\"website_url\").isNull(), lit(\"\")).otherwise(col(\"website_url\"))) \\\n",
    "                        .drop(\"state\") \\\n",
    "                        .drop(\"street\")\\\n",
    "                        .drop(\"Address_1\") \\\n",
    "\n",
    "df_silver = df_cleaned.dropDuplicates()\n",
    "                        "
   ]
  },
  {
   "cell_type": "code",
   "execution_count": 0,
   "metadata": {
    "application/vnd.databricks.v1+cell": {
     "cellMetadata": {
      "byteLimit": 2048000,
      "rowLimit": 10000
     },
     "inputWidgets": {},
     "nuid": "f98aa6b8-dd1a-4e55-93ab-aed688b274f0",
     "showTitle": false,
     "title": ""
    }
   },
   "outputs": [],
   "source": [
    "df_silver.write.format(\"delta\")\\\n",
    "                .partitionBy(\"Country\", \"State_province\", \"City\") \\\n",
    "                .mode (\"overwrite\") \\\n",
    "                .save(\"dbfs:/mnt/data/Silver/\" + str(today))\n",
    "print(\"Data has been written succesfully!\")\n"
   ]
  }
 ],
 "metadata": {
  "application/vnd.databricks.v1+notebook": {
   "dashboards": [],
   "environmentMetadata": null,
   "language": "python",
   "notebookMetadata": {
    "pythonIndentUnit": 4
   },
   "notebookName": "ingestion_bronze_silver",
   "widgets": {}
  },
  "kernelspec": {
   "display_name": "pyspark_env",
   "language": "python",
   "name": "python3"
  },
  "language_info": {
   "codemirror_mode": {
    "name": "ipython",
    "version": 3
   },
   "file_extension": ".py",
   "mimetype": "text/x-python",
   "name": "python",
   "nbconvert_exporter": "python",
   "pygments_lexer": "ipython3",
   "version": "3.12.3"
  }
 },
 "nbformat": 4,
 "nbformat_minor": 0
}
