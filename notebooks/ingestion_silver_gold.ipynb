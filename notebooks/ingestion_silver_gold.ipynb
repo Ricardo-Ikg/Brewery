{
 "cells": [
  {
   "cell_type": "code",
   "execution_count": 0,
   "metadata": {
    "application/vnd.databricks.v1+cell": {
     "cellMetadata": {
      "byteLimit": 2048000,
      "rowLimit": 10000
     },
     "inputWidgets": {},
     "nuid": "8c59d4b2-da05-43cb-a015-01b8a3f5cf0b",
     "showTitle": false,
     "title": ""
    }
   },
   "outputs": [],
   "source": [
    "from pyspark.sql import SparkSession\n",
    "from pyspark.context import SparkContext\n",
    "from pyspark.sql import functions as f\n",
    "import datetime"
   ]
  },
  {
   "cell_type": "code",
   "execution_count": 0,
   "metadata": {
    "application/vnd.databricks.v1+cell": {
     "cellMetadata": {
      "byteLimit": 2048000,
      "rowLimit": 10000
     },
     "inputWidgets": {},
     "nuid": "b1ac1644-1fd7-4666-aefd-dac68f184312",
     "showTitle": false,
     "title": ""
    }
   },
   "outputs": [],
   "source": [
    "spark = SparkSession.builder \\\n",
    "                    .appName(\"Breweries\") \\\n",
    "                    .getOrCreate()\n",
    "\n",
    "sc = spark.sparkContext"
   ]
  },
  {
   "cell_type": "code",
   "execution_count": 0,
   "metadata": {
    "application/vnd.databricks.v1+cell": {
     "cellMetadata": {
      "byteLimit": 2048000,
      "rowLimit": 10000
     },
     "inputWidgets": {},
     "nuid": "ca3fd66e-74e5-43e6-82ab-3b89766228d6",
     "showTitle": false,
     "title": ""
    }
   },
   "outputs": [],
   "source": [
    "today = datetime.date.today()"
   ]
  },
  {
   "cell_type": "code",
   "execution_count": 0,
   "metadata": {
    "application/vnd.databricks.v1+cell": {
     "cellMetadata": {
      "byteLimit": 2048000,
      "rowLimit": 10000
     },
     "inputWidgets": {},
     "nuid": "5a3f2d34-9dce-4cfd-8c16-36f06da0dd81",
     "showTitle": false,
     "title": ""
    }
   },
   "outputs": [],
   "source": [
    "df_silver = spark.read.format(\"delta\").load(\"dbfs:/mnt/dados/silver/\" + str(today))"
   ]
  },
  {
   "cell_type": "code",
   "execution_count": 0,
   "metadata": {
    "application/vnd.databricks.v1+cell": {
     "cellMetadata": {
      "byteLimit": 2048000,
      "rowLimit": 10000
     },
     "inputWidgets": {},
     "nuid": "3e4b3f97-806f-43e5-b32a-5d2d6811fb49",
     "showTitle": false,
     "title": ""
    }
   },
   "outputs": [],
   "source": [
    "df_grouped = df_silver.groupBy(\"Brewery_type\", \"State_province\") \\\n",
    "                        .agg(f.count(\"*\").alias(\"Quant_brewery\"))"
   ]
  },
  {
   "cell_type": "code",
   "execution_count": 0,
   "metadata": {
    "application/vnd.databricks.v1+cell": {
     "cellMetadata": {
      "byteLimit": 2048000,
      "rowLimit": 10000
     },
     "inputWidgets": {},
     "nuid": "e698a533-c059-44ab-b38f-c1ee8f6bfd9e",
     "showTitle": false,
     "title": ""
    }
   },
   "outputs": [],
   "source": [
    "df_grouped.createOrReplaceTempView(\"brewery_view\")\n",
    "\n",
    "sql_query = \"\"\"\n",
    "SELECT Brewery_type, State_province, COUNT(*) as count\n",
    "FROM brewery_view\n",
    "GROUP BY Brewery_type, State_province\n",
    "\"\"\"\n"
   ]
  },
  {
   "cell_type": "code",
   "execution_count": 0,
   "metadata": {
    "application/vnd.databricks.v1+cell": {
     "cellMetadata": {
      "byteLimit": 2048000,
      "rowLimit": 10000
     },
     "inputWidgets": {},
     "nuid": "308a354e-2534-4d98-b361-a1f5644a9739",
     "showTitle": false,
     "title": ""
    }
   },
   "outputs": [],
   "source": [
    "df_view = spark.sql(sql_query)"
   ]
  },
  {
   "cell_type": "code",
   "execution_count": 0,
   "metadata": {
    "application/vnd.databricks.v1+cell": {
     "cellMetadata": {
      "byteLimit": 2048000,
      "rowLimit": 10000
     },
     "inputWidgets": {},
     "nuid": "979ea492-d9a2-41b4-b3b4-4564358162e8",
     "showTitle": false,
     "title": ""
    }
   },
   "outputs": [],
   "source": [
    "gold_path = \"dbfs:/mnt/dados/gold/\""
   ]
  },
  {
   "cell_type": "code",
   "execution_count": 0,
   "metadata": {
    "application/vnd.databricks.v1+cell": {
     "cellMetadata": {
      "byteLimit": 2048000,
      "rowLimit": 10000
     },
     "inputWidgets": {},
     "nuid": "7715ee78-9140-449e-b40b-ef9c9b52b909",
     "showTitle": false,
     "title": ""
    }
   },
   "outputs": [],
   "source": [
    "try:\n",
    "    df_view.write.format(\"delta\") \\\n",
    "            .mode(\"append\") \\\n",
    "            .save(gold_path)\n",
    "    print(\"Data has been succesfully saved\")\n",
    "\n",
    "except Exception as error:\n",
    "    print(\"An error has occured while writing data: {error}\")"
   ]
  }
 ],
 "metadata": {
  "application/vnd.databricks.v1+notebook": {
   "dashboards": [],
   "environmentMetadata": null,
   "language": "python",
   "notebookMetadata": {
    "pythonIndentUnit": 4
   },
   "notebookName": "ingestion_silver_gold",
   "widgets": {}
  },
  "kernelspec": {
   "display_name": "Python 3",
   "language": "python",
   "name": "python3"
  },
  "language_info": {
   "codemirror_mode": {
    "name": "ipython",
    "version": 3
   },
   "file_extension": ".py",
   "mimetype": "text/x-python",
   "name": "python",
   "nbconvert_exporter": "python",
   "pygments_lexer": "ipython3",
   "version": "3.12.3"
  }
 },
 "nbformat": 4,
 "nbformat_minor": 0
}
